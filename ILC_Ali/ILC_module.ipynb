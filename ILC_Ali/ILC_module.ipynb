import healpy as hp
import numpy as np
